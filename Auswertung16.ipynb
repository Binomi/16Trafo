{
 "metadata": {
  "name": "Auswertung16"
 },
 "nbformat": 3,
 "nbformat_minor": 0,
 "worksheets": [
  {
   "cells": [
    {
     "cell_type": "code",
     "collapsed": false,
     "input": [
      "import math\n",
      "import maabara as ma"
     ],
     "language": "python",
     "metadata": {},
     "outputs": [],
     "prompt_number": 3
    },
    {
     "cell_type": "code",
     "collapsed": false,
     "input": [
      "u1=[10.6631,0.0244]\n",
      "u2=[10.3312,0.006433]\n",
      "ma.weighted_average([u1,u2])"
     ],
     "language": "python",
     "metadata": {},
     "outputs": [
      {
       "output_type": "pyout",
       "prompt_number": 15,
       "text": [
        "(0.096573576255684176, 5.8025046339560628e-05)"
       ]
      }
     ],
     "prompt_number": 15
    },
    {
     "cell_type": "code",
     "collapsed": false,
     "input": [
      "a=[2.2,2.4,2.6,1.5,1.6,1.8]\n",
      "b=[2.3,2.6,3.6,2.4,3.1,3.7]\n",
      "c=[3.8,3.2,2.6,2.4,2.0,1.9]\n",
      "d=3.8"
     ],
     "language": "python",
     "metadata": {},
     "outputs": [],
     "prompt_number": 6
    },
    {
     "cell_type": "code",
     "collapsed": false,
     "input": [
      "verhaeltnis = []\n",
      "for i in range(len(a)):\n",
      "    v1=ma.Sheet(\"a/b\")\n",
      "    v1.v('a',a[i],0.1)\n",
      "    v1.v('b',b[i],0.1)\n",
      "    v2=ma.Sheet(\"c/d\")\n",
      "    v2.v('c',c[i],0.1)\n",
      "    v2.v('d',d,0.1)\n",
      "    verhaeltnis.append(ma.weighted_average([v1.get_result(),v2.get_result()]))\n",
      "    print verhaeltnis[i]"
     ],
     "language": "python",
     "metadata": {},
     "outputs": [
      {
       "output_type": "stream",
       "stream": "stdout",
       "text": [
        "(0.98796808233957345, 0.031650486813421745)\n",
        "(0.86653309961667524, 0.028749576338170688)"
       ]
      },
      {
       "output_type": "stream",
       "stream": "stdout",
       "text": [
        "\n",
        "(0.70185124839041257, 0.023342534510113002)"
       ]
      },
      {
       "output_type": "stream",
       "stream": "stdout",
       "text": [
        "\n",
        "(0.62969501156396102, 0.026293513229783776)"
       ]
      },
      {
       "output_type": "stream",
       "stream": "stdout",
       "text": [
        "\n",
        "(0.52222489708488773, 0.023004508106169025)"
       ]
      },
      {
       "output_type": "stream",
       "stream": "stdout",
       "text": [
        "\n",
        "(0.49338718936448345, 0.021024899764826434)"
       ]
      },
      {
       "output_type": "stream",
       "stream": "stdout",
       "text": [
        "\n"
       ]
      }
     ],
     "prompt_number": 7
    },
    {
     "cell_type": "code",
     "collapsed": false,
     "input": [
      "phase = []\n",
      "for i in range(len(a)):\n",
      "    phi=ma.Sheet(\"asin(x)\",\"\\phi\")\n",
      "    phi.v('x',verhaeltnis[i][0],verhaeltnis[i][1])\n",
      "    phase.append(phi.get_result())\n",
      "    print i,phase[i][0],phase[i][1]"
     ],
     "language": "python",
     "metadata": {},
     "outputs": [
      {
       "output_type": "stream",
       "stream": "stdout",
       "text": [
        "0 1.41551514174 0.204648358267\n",
        "1 1.0482138375 0.057600574364\n",
        "2"
       ]
      },
      {
       "output_type": "stream",
       "stream": "stdout",
       "text": [
        " 0.777993067559 0.0327695677749\n",
        "3 0.681160548948 0.0338466483436\n",
        "4"
       ]
      },
      {
       "output_type": "stream",
       "stream": "stdout",
       "text": [
        " 0.549457780954 0.026975020513\n",
        "5 0.515979643729 0.0241718360259\n"
       ]
      }
     ],
     "prompt_number": 14
    },
    {
     "cell_type": "code",
     "collapsed": false,
     "input": [],
     "language": "python",
     "metadata": {},
     "outputs": []
    }
   ],
   "metadata": {}
  }
 ]
}