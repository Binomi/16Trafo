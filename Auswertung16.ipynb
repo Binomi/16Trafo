{
 "metadata": {
  "name": "Auswertung16"
 },
 "nbformat": 3,
 "nbformat_minor": 0,
 "worksheets": [
  {
   "cells": [
    {
     "cell_type": "code",
     "collapsed": false,
     "input": [
      "import math\n",
      "import maabara as ma"
     ],
     "language": "python",
     "metadata": {},
     "outputs": [],
     "prompt_number": 1
    },
    {
     "cell_type": "code",
     "collapsed": false,
     "input": [
      "u1=[10.6631,0.0244]\n",
      "u2=[10.3312,0.006433]\n",
      "ma.weighted_average([u1,u2])"
     ],
     "language": "python",
     "metadata": {},
     "outputs": [
      {
       "output_type": "pyout",
       "prompt_number": 2,
       "text": [
        "(10.352770978323896, 0.0062204402283334397)"
       ]
      }
     ],
     "prompt_number": 2
    },
    {
     "cell_type": "code",
     "collapsed": false,
     "input": [
      "a=[2.2,2.4,2.6,1.5,1.6,1.8]\n",
      "b=[2.3,2.6,3.6,2.4,3.1,3.7]\n",
      "c=[3.8,3.2,2.6,2.4,2.0,1.9]\n",
      "d=3.8"
     ],
     "language": "python",
     "metadata": {},
     "outputs": [],
     "prompt_number": 3
    },
    {
     "cell_type": "code",
     "collapsed": false,
     "input": [
      "verhaeltnis = []\n",
      "for i in range(len(a)):\n",
      "    v1=ma.Sheet(\"a/b\")\n",
      "    v1.v('a',a[i],0.1)\n",
      "    v1.v('b',b[i],0.1)\n",
      "    v2=ma.Sheet(\"c/d\")\n",
      "    v2.v('c',c[i],0.1)\n",
      "    v2.v('d',d,0.1)\n",
      "    verhaeltnis.append(ma.weighted_average([v1.get_result(),v2.get_result()]))\n",
      "    print verhaeltnis[i]"
     ],
     "language": "python",
     "metadata": {},
     "outputs": [
      {
       "output_type": "stream",
       "stream": "stdout",
       "text": [
        "(0.98796808233957345, 0.031650486813421745)\n",
        "(0.86653309961667524, 0.028749576338170688)"
       ]
      },
      {
       "output_type": "stream",
       "stream": "stdout",
       "text": [
        "\n",
        "(0.70185124839041257, 0.023342534510113002)"
       ]
      },
      {
       "output_type": "stream",
       "stream": "stdout",
       "text": [
        "\n",
        "(0.62969501156396102, 0.026293513229783776)"
       ]
      },
      {
       "output_type": "stream",
       "stream": "stdout",
       "text": [
        "\n",
        "(0.52222489708488773, 0.023004508106169025)"
       ]
      },
      {
       "output_type": "stream",
       "stream": "stdout",
       "text": [
        "\n",
        "(0.49338718936448345, 0.021024899764826434)"
       ]
      },
      {
       "output_type": "stream",
       "stream": "stdout",
       "text": [
        "\n"
       ]
      }
     ],
     "prompt_number": 4
    },
    {
     "cell_type": "code",
     "collapsed": false,
     "input": [
      "phase = []\n",
      "for i in range(len(a)):\n",
      "    phi=ma.Sheet(\"asin(x)\",\"\\phi\")\n",
      "    phi.v('x',verhaeltnis[i][0],verhaeltnis[i][1])\n",
      "    phase.append(phi.get_result())\n",
      "    print i,phase[i][0],phase[i][1]"
     ],
     "language": "python",
     "metadata": {},
     "outputs": [
      {
       "output_type": "stream",
       "stream": "stdout",
       "text": [
        "0 1.41551514174 0.204648358267\n",
        "1"
       ]
      },
      {
       "output_type": "stream",
       "stream": "stdout",
       "text": [
        " 1.0482138375 0.057600574364\n",
        "2 0.777993067559 0.0327695677749\n",
        "3"
       ]
      },
      {
       "output_type": "stream",
       "stream": "stdout",
       "text": [
        " 0.681160548948 0.0338466483436\n",
        "4"
       ]
      },
      {
       "output_type": "stream",
       "stream": "stdout",
       "text": [
        " 0.549457780954 0.026975020513\n",
        "5"
       ]
      },
      {
       "output_type": "stream",
       "stream": "stdout",
       "text": [
        " 0.515979643729 0.0241718360259\n"
       ]
      }
     ],
     "prompt_number": 5
    },
    {
     "cell_type": "code",
     "collapsed": false,
     "input": [
      "phase_oszi=[86.5,54.4,40.3,34.6,29.7,26.3]\n",
      "for i in range(len(phase_oszi)):\n",
      "    phase_oszi[i]=[phase_oszi[i]/180*2*pi,pi/90]"
     ],
     "language": "python",
     "metadata": {},
     "outputs": [
      {
       "ename": "NameError",
       "evalue": "name 'PI' is not defined",
       "output_type": "pyerr",
       "traceback": [
        "\u001b[1;31m---------------------------------------------------------------------------\u001b[0m\n\u001b[1;31mNameError\u001b[0m                                 Traceback (most recent call last)",
        "\u001b[1;32m<ipython-input-10-85852ea74dcb>\u001b[0m in \u001b[0;36m<module>\u001b[1;34m()\u001b[0m\n\u001b[0;32m      1\u001b[0m \u001b[0mphase_oszi\u001b[0m\u001b[1;33m=\u001b[0m\u001b[1;33m[\u001b[0m\u001b[1;36m86.5\u001b[0m\u001b[1;33m,\u001b[0m\u001b[1;36m54.4\u001b[0m\u001b[1;33m,\u001b[0m\u001b[1;36m40.3\u001b[0m\u001b[1;33m,\u001b[0m\u001b[1;36m34.6\u001b[0m\u001b[1;33m,\u001b[0m\u001b[1;36m29.7\u001b[0m\u001b[1;33m,\u001b[0m\u001b[1;36m26.3\u001b[0m\u001b[1;33m]\u001b[0m\u001b[1;33m\u001b[0m\u001b[0m\n\u001b[0;32m      2\u001b[0m \u001b[1;32mfor\u001b[0m \u001b[0mi\u001b[0m \u001b[1;32min\u001b[0m \u001b[0mrange\u001b[0m\u001b[1;33m(\u001b[0m\u001b[0mlen\u001b[0m\u001b[1;33m(\u001b[0m\u001b[0mphase_oszi\u001b[0m\u001b[1;33m)\u001b[0m\u001b[1;33m)\u001b[0m\u001b[1;33m:\u001b[0m\u001b[1;33m\u001b[0m\u001b[0m\n\u001b[1;32m----> 3\u001b[1;33m     \u001b[0mphase_oszi\u001b[0m\u001b[1;33m[\u001b[0m\u001b[0mi\u001b[0m\u001b[1;33m]\u001b[0m\u001b[1;33m=\u001b[0m\u001b[1;33m[\u001b[0m\u001b[0mphase_oszi\u001b[0m\u001b[1;33m[\u001b[0m\u001b[0mi\u001b[0m\u001b[1;33m]\u001b[0m\u001b[1;33m/\u001b[0m\u001b[1;36m180\u001b[0m\u001b[1;33m*\u001b[0m\u001b[1;36m2\u001b[0m\u001b[1;33m*\u001b[0m\u001b[0mPI\u001b[0m\u001b[1;33m,\u001b[0m\u001b[0mPI\u001b[0m\u001b[1;33m/\u001b[0m\u001b[1;36m90\u001b[0m\u001b[1;33m]\u001b[0m\u001b[1;33m\u001b[0m\u001b[0m\n\u001b[0m",
        "\u001b[1;31mNameError\u001b[0m: name 'PI' is not defined"
       ]
      }
     ],
     "prompt_number": 10
    },
    {
     "cell_type": "code",
     "collapsed": false,
     "input": [
      "x= ma.weighted_average([phase[0],verhaeltnis[0]])\n",
      "print x\n",
      "WP=ma.Sheet(\"a*b*sin(x)\")\n",
      "WP.v('a',200)\n",
      "WP.v('b',0.11)\n",
      "WP.v('x',x[0],x[1])\n",
      "WP.ps()"
     ],
     "language": "python",
     "metadata": {},
     "outputs": [
      {
       "output_type": "stream",
       "stream": "stdout",
       "text": [
        "(0.99795571478292699, 0.031278619632836673)\n",
        "a \\cdot b \\cdot \\sin{\\left (x \\right )}\n"
       ]
      },
      {
       "output_type": "stream",
       "stream": "stdout",
       "text": [
        "\n",
        "18.5 \\pm 0.4\n",
        "\n",
        "a \\cdot b \\cdot \\sigma_{x} \\cdot \\left\\lvert{\\cos{\\left (x \\right )}}\\right\\rvert\n",
        "\n"
       ]
      },
      {
       "output_type": "pyout",
       "prompt_number": 7,
       "text": [
        "18.48802329582293+/-0.37298097434797894"
       ]
      }
     ],
     "prompt_number": 7
    },
    {
     "cell_type": "code",
     "collapsed": false,
     "input": [],
     "language": "python",
     "metadata": {},
     "outputs": [],
     "prompt_number": 7
    }
   ],
   "metadata": {}
  }
 ]
}